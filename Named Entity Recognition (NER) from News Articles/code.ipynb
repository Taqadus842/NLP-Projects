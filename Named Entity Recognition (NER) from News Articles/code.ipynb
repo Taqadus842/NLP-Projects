{
 "cells": [
  {
   "cell_type": "code",
   "execution_count": 1,
   "id": "84c622af-df41-4e87-b192-8c7ee0670e5c",
   "metadata": {},
   "outputs": [],
   "source": [
    "import pandas as pd\n",
    "import spacy\n",
    "from spacy import displacy\n",
    "from pathlib import Path\n",
    "import re\n"
   ]
  },
  {
   "cell_type": "markdown",
   "id": "f8844926-06e6-46e4-b0c5-c4f2be84956a",
   "metadata": {},
   "source": [
    "Step 1: Load the CoNLL-2003 Dataset"
   ]
  },
  {
   "cell_type": "code",
   "execution_count": 2,
   "id": "88a5adbc-0c2c-4574-abf8-0c1cdfa1f608",
   "metadata": {},
   "outputs": [],
   "source": [
    "def load_dataset(file_path):\n",
    "    with open(file_path,'r',encoding='utf-8') as f:\n",
    "        lines=f.readlines()\n",
    "    sentence=[]\n",
    "    sentences=[]\n",
    "\n",
    "    for line in lines:\n",
    "        line=line.strip()\n",
    "        if not line:\n",
    "            if sentence:\n",
    "                sentences.append(sentence)\n",
    "                sentence=[]\n",
    "        else:\n",
    "            splits=line.split()\n",
    "            if len(splits)>=2:\n",
    "                word=splits[0]\n",
    "                tag=splits[-1]\n",
    "                sentence.append((word,tag))\n",
    "    if sentence:\n",
    "        sentences.append(sentence)\n",
    "    return sentences\n",
    "\n",
    "train_data=load_dataset(\"train.txt\")"
   ]
  },
  {
   "cell_type": "markdown",
   "id": "6d57bc73-5639-49ba-be32-b7fe836479f8",
   "metadata": {},
   "source": [
    "Step 2: Convert Sentences to Plain Text"
   ]
  },
  {
   "cell_type": "code",
   "execution_count": 3,
   "id": "36ff85c9-9e2a-441e-9352-1af3ca2b11f9",
   "metadata": {},
   "outputs": [],
   "source": [
    "def to_text(sentences,n=5):\n",
    "    return [\" \".join([token for token,tag in sentence]) for sentence in sentences[:n]]"
   ]
  },
  {
   "cell_type": "code",
   "execution_count": 4,
   "id": "35238949-8d5d-4c5f-959f-89b220a77ab1",
   "metadata": {},
   "outputs": [],
   "source": [
    "text=to_text(train_data,n=5)"
   ]
  },
  {
   "cell_type": "markdown",
   "id": "254cdb64-9dab-4a60-a9a6-f10a79832bf3",
   "metadata": {},
   "source": [
    "Rule-Based NER (using Regex)"
   ]
  },
  {
   "cell_type": "code",
   "execution_count": 5,
   "id": "a42add7d-a7ca-490f-85db-bf4d517e63c2",
   "metadata": {},
   "outputs": [],
   "source": [
    "def rule_based_ner(text):\n",
    "    patterns={\n",
    "        \"ORG\":r\"\\b[A-Z]{2,}(?:\\s[A-Z]{2,})*\",\n",
    "        \"PERSON\":r\"\\b[A-Z][a-z]+\\s[A-Z][a-z]+\\b\",\n",
    "        \"LOC\":r\"\\b(Germany|France|USA|United States|China)\\b\"\n",
    "    }\n",
    "    matches=[]\n",
    "    for label,pattern in patterns.items():\n",
    "        for match in re.finditer(pattern,text):\n",
    "            matches.append(\n",
    "                {\n",
    "                    \"start\":match.start(),\n",
    "                    \"end\":match.end(),\n",
    "                    \"label\":label\n",
    "                }\n",
    "            )\n",
    "    return matches"
   ]
  },
  {
   "cell_type": "code",
   "execution_count": 6,
   "id": "67721c21-4a64-4417-9ebe-5b422ab354d6",
   "metadata": {},
   "outputs": [],
   "source": [
    "from spacy import displacy\n",
    "from IPython.display import display, HTML\n",
    "\n",
    "def visualize(text, matches):\n",
    "    from spacy import displacy\n",
    "    from IPython.display import display, HTML\n",
    "\n",
    "    doc = {\n",
    "        \"text\": text,\n",
    "        \"ents\": matches,\n",
    "        \"title\": \"Rule-based NER\"\n",
    "    }\n",
    "    html = displacy.render(doc, style=\"ent\", manual=True, jupyter=True)\n",
    "    display(HTML(html))\n"
   ]
  },
  {
   "cell_type": "code",
   "execution_count": 9,
   "id": "8d69de93-1f5c-4793-8b31-4d667a9efb96",
   "metadata": {},
   "outputs": [
    {
     "name": "stdout",
     "output_type": "stream",
     "text": [
      "Rule-based NER Example:\n"
     ]
    },
    {
     "data": {
      "text/html": [
       "<span class=\"tex2jax_ignore\"><h2 style=\"margin: 0\">Rule-based NER</h2>\n",
       "\n",
       "<div class=\"entities\" style=\"line-height: 2.5; direction: ltr\">-\n",
       "<mark class=\"entity\" style=\"background: #7aecec; padding: 0.45em 0.6em; margin: 0 0.25em; line-height: 1; border-radius: 0.35em;\">\n",
       "    DOCSTART\n",
       "    <span style=\"font-size: 0.8em; font-weight: bold; line-height: 1; border-radius: 0.35em; vertical-align: middle; margin-left: 0.5rem\">ORG</span>\n",
       "</mark>\n",
       "-</div></span>"
      ],
      "text/plain": [
       "<IPython.core.display.HTML object>"
      ]
     },
     "metadata": {},
     "output_type": "display_data"
    },
    {
     "data": {
      "text/plain": [
       "<IPython.core.display.HTML object>"
      ]
     },
     "metadata": {},
     "output_type": "display_data"
    }
   ],
   "source": [
    "print(\"Rule-based NER Example:\")\n",
    "for sample in text[:1]:\n",
    "    matches = rule_based_ner(sample)\n",
    "    visualize(sample, matches)"
   ]
  },
  {
   "cell_type": "code",
   "execution_count": null,
   "id": "2d609ef3-b067-4188-b77e-c3b5bc30129d",
   "metadata": {},
   "outputs": [],
   "source": []
  },
  {
   "cell_type": "markdown",
   "id": "f19ed18d-fed0-4a27-88bd-560725908d43",
   "metadata": {},
   "source": [
    "Model-Based NER (SpaCy)"
   ]
  },
  {
   "cell_type": "code",
   "execution_count": null,
   "id": "dcd76656-7c46-407d-8de9-831b1b8ff90d",
   "metadata": {},
   "outputs": [
    {
     "name": "stdout",
     "output_type": "stream",
     "text": [
      "Collecting en-core-web-trf==3.8.0\n",
      "  Downloading https://github.com/explosion/spacy-models/releases/download/en_core_web_trf-3.8.0/en_core_web_trf-3.8.0-py3-none-any.whl (457.4 MB)\n",
      "\u001b[2K     \u001b[38;2;249;38;114m━\u001b[0m\u001b[38;2;249;38;114m╸\u001b[0m\u001b[38;5;237m━━━━━━━━━━━━━━━━━━━━━━━━━━━━━━━━━━━━━━\u001b[0m \u001b[32m21.0/457.4 MB\u001b[0m \u001b[31m78.6 kB/s\u001b[0m  \u001b[36m1:32:37\u001b[0m0m\n",
      "\u001b[?25h\u001b[33m  WARNING: Attempting to resume incomplete download (21.0 MB/457.4 MB, attempt 1)\u001b[0m\u001b[33m\n",
      "\u001b[0m  Resuming download https://github.com/explosion/spacy-models/releases/download/en_core_web_trf-3.8.0/en_core_web_trf-3.8.0-py3-none-any.whl (21.0 MB/457.4 MB)\n",
      "\u001b[2K     \u001b[38;2;249;38;114m━━━\u001b[0m\u001b[38;2;249;38;114m╸\u001b[0m\u001b[38;5;237m━━━━━━━━━━━━━━━━━━━━━━━━━━━━━━━━━━━━\u001b[0m \u001b[32m41.9/457.4 MB\u001b[0m \u001b[31m20.1 kB/s\u001b[0m  \u001b[36m5:44:01\u001b[0m0m\n",
      "\u001b[?25h\u001b[33m  WARNING: Attempting to resume incomplete download (41.9 MB/457.4 MB, attempt 2)\u001b[0m\u001b[33m\n",
      "\u001b[0m  Resuming download https://github.com/explosion/spacy-models/releases/download/en_core_web_trf-3.8.0/en_core_web_trf-3.8.0-py3-none-any.whl (41.9 MB/457.4 MB)\n",
      "\u001b[2K     \u001b[38;2;249;38;114m━━━\u001b[0m\u001b[38;2;249;38;114m╸\u001b[0m\u001b[38;5;237m━━━━━━━━━━━━━━━━━━━━━━━━━━━━━━━━━━━\u001b[0m \u001b[32m42.2/457.4 MB\u001b[0m \u001b[31m8.9 kB/s\u001b[0m eta \u001b[36m12:55:02\u001b[0m\n",
      "\u001b[?25h\u001b[33m  WARNING: Connection timed out while downloading.\u001b[0m\u001b[33m\n",
      "\u001b[0m\u001b[33m  WARNING: Attempting to resume incomplete download (42.2 MB/457.4 MB, attempt 3)\u001b[0m\u001b[33m\n",
      "\u001b[0m  Resuming download https://github.com/explosion/spacy-models/releases/download/en_core_web_trf-3.8.0/en_core_web_trf-3.8.0-py3-none-any.whl (42.2 MB/457.4 MB)\n",
      "\u001b[2K     \u001b[38;2;249;38;114m━━━━\u001b[0m\u001b[38;2;249;38;114m╸\u001b[0m\u001b[38;5;237m━━━━━━━━━━━━━━━━━━━━━━━━━━━━━━━━━━━\u001b[0m \u001b[32m52.4/457.4 MB\u001b[0m \u001b[31m30.8 kB/s\u001b[0m  \u001b[36m3:39:16\u001b[0m0m\n",
      "\u001b[?25h\u001b[33m  WARNING: Attempting to resume incomplete download (52.4 MB/457.4 MB, attempt 4)\u001b[0m\u001b[33m\n",
      "\u001b[0m  Resuming download https://github.com/explosion/spacy-models/releases/download/en_core_web_trf-3.8.0/en_core_web_trf-3.8.0-py3-none-any.whl (52.4 MB/457.4 MB)\n",
      "\u001b[2K     \u001b[38;2;249;38;114m━━━━━━\u001b[0m\u001b[38;5;237m╺\u001b[0m\u001b[38;5;237m━━━━━━━━━━━━━━━━━━━━━━━━━━━━━━━━\u001b[0m \u001b[32m73.1/457.4 MB\u001b[0m \u001b[31m29.5 kB/s\u001b[0m eta \u001b[36m3:37:02\u001b[0m:08\u001b[0m"
     ]
    }
   ],
   "source": [
    "!python -m spacy download en_core_web_trf\n",
    "nlp_sm = spacy.load(\"en_core_web_sm\")\n",
    "nlp_trf = spacy.load(\"en_core_web_trf\")\n"
   ]
  },
  {
   "cell_type": "code",
   "execution_count": null,
   "id": "8dbb6309-2e30-4864-a233-eee203b6db61",
   "metadata": {},
   "outputs": [],
   "source": [
    "def visualize_model_based(nlp_model, text, model_name=\"Model\"):\n",
    "    doc = nlp_model(text)\n",
    "    print(f\" Entities found by {model_name}:\")from spacy import displacy\n",
    "from IPython.display import display, HTML\n",
    "\n",
    "def visualize(text, matches):\n",
    "    doc = {\n",
    "        \"text\": text,\n",
    "        \"ents\": matches,\n",
    "        \"title\": \"Rule-based NER\"\n",
    "    }\n",
    "    html = displacy.render(doc, style=\"ent\", manual=True, jupyter=True)\n",
    "    display(HTML(html))\n",
    "\n",
    "    for ent in doc.ents:\n",
    "        print(f\"{ent.text} → {ent.label_}\")\n",
    "    displacy.render(doc, style=\"ent\", manual=True)\n"
   ]
  },
  {
   "cell_type": "code",
   "execution_count": null,
   "id": "3ca3305c-6199-43da-b603-b2c0cb15d2e0",
   "metadata": {},
   "outputs": [],
   "source": [
    "sample_text = text_samples[0]\n",
    "\n",
    "visualize_model_based(nlp_sm, sample_text, model_name=\"en_core_web_sm\")\n",
    "\n",
    "visualize_model_based(nlp_trf, sample_text, model_name=\"en_core_web_trf\")\n"
   ]
  },
  {
   "cell_type": "code",
   "execution_count": null,
   "id": "127b187d-b5e7-4527-ac06-4f67ae62ca4d",
   "metadata": {},
   "outputs": [],
   "source": []
  }
 ],
 "metadata": {
  "kernelspec": {
   "display_name": "Python 3 (ipykernel)",
   "language": "python",
   "name": "python3"
  },
  "language_info": {
   "codemirror_mode": {
    "name": "ipython",
    "version": 3
   },
   "file_extension": ".py",
   "mimetype": "text/x-python",
   "name": "python",
   "nbconvert_exporter": "python",
   "pygments_lexer": "ipython3",
   "version": "3.12.3"
  }
 },
 "nbformat": 4,
 "nbformat_minor": 5
}
